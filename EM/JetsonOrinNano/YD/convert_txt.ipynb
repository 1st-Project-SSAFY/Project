import os
import shutil
import json

rootpath = "./nww/" # txt 파일 있는 위치 

file_lst = os.listdir(rootpath)

for file in file_lst:
    if file.endswith(".txt") :
        edited_lines =""
        with open (rootpath+file) as f : 
            for t in f.readlines():
                string = t.split(' ')
                ans = float(string[0])
                ans = 1 
                ans = str(ans)
                edited_lines = edited_lines+ ans
                for i in range(len(string)-1):
                    edited_lines = edited_lines+' ' + string[i+1]    
                
        with open (rootpath+file,"w") as f : 
             f.write(edited_lines)
                            
        f.close()